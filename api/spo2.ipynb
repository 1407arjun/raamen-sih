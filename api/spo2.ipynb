{
  "nbformat": 4,
  "nbformat_minor": 0,
  "metadata": {
    "colab": {
      "name": "SIH.ipynb",
      "provenance": [],
      "collapsed_sections": []
    },
    "kernelspec": {
      "name": "python3",
      "display_name": "Python 3"
    },
    "language_info": {
      "name": "python"
    }
  },
  "cells": [
    {
      "cell_type": "code",
      "execution_count": null,
      "metadata": {
        "id": "WT-Sm1ePnvSe"
      },
      "outputs": [],
      "source": [
        "import pandas as pd\n",
        "import numpy as np"
      ]
    },
    {
      "cell_type": "code",
      "source": [
        "ground_truths = pd.read_csv('ground_truths_nemcova.csv')\n",
        "nemcova_data = pd.read_csv('nemcova_data.csv')"
      ],
      "metadata": {
        "id": "_vQ-0b53plq2"
      },
      "execution_count": null,
      "outputs": []
    },
    {
      "cell_type": "code",
      "source": [
        "nemcova_data.head()"
      ],
      "metadata": {
        "id": "XqFe-IWxtYBi"
      },
      "execution_count": null,
      "outputs": []
    },
    {
      "cell_type": "code",
      "source": [
        "for i in range(len(nemcova_data['sample_source'])):\n",
        "    nemcova_data['sample_source'][i] = nemcova_data['sample_source'][i][:32]\n",
        "nemcova_data.head()"
      ],
      "metadata": {
        "id": "CY6_wqZ9qGMB"
      },
      "execution_count": null,
      "outputs": []
    },
    {
      "cell_type": "code",
      "source": [
        "ground_truths.rename(columns = {'path':'sample_source'}, inplace = True)"
      ],
      "metadata": {
        "id": "FDK3KNglvVD0"
      },
      "execution_count": null,
      "outputs": []
    },
    {
      "cell_type": "code",
      "source": [
        "merged_data = pd.merge(nemcova_data, ground_truths, on = 'sample_source', how = 'left')"
      ],
      "metadata": {
        "id": "dwMwuBGNsro2"
      },
      "execution_count": null,
      "outputs": []
    },
    {
      "cell_type": "code",
      "source": [
        "merged_data = pd.read_csv('merged_data.csv')"
      ],
      "metadata": {
        "id": "SM3NzXNFYqhf"
      },
      "execution_count": null,
      "outputs": []
    },
    {
      "cell_type": "code",
      "source": [
        "merged_data.head()"
      ],
      "metadata": {
        "colab": {
          "base_uri": "https://localhost:8080/",
          "height": 206
        },
        "id": "XewjXNByyloO",
        "outputId": "c55fd976-2a57-4005-9fbe-b53fe7190ddc"
      },
      "execution_count": null,
      "outputs": [
        {
          "output_type": "execute_result",
          "data": {
            "text/plain": [
              "    mean_red   std_red  mean_green  std_green  mean_blue  std_blue  frame  \\\n",
              "0  232.57672  3.211507   58.689560   2.680604  11.422743  1.399133      0   \n",
              "1  232.58626  3.227342   58.543620   2.686459  11.576931  1.392232      1   \n",
              "2  231.62793  3.354800   56.909832   2.618421  11.841254  1.384937      2   \n",
              "3  229.85297  3.427032   54.868923   2.562196  11.658637  1.371605      3   \n",
              "4  229.35710  3.470576   54.374130   2.574666  11.535156  1.360028      4   \n",
              "\n",
              "   sample_id                     sample_source  HR  SpO2  \n",
              "0          0  data/nemcova_data/20200329165134  67    96  \n",
              "1          0  data/nemcova_data/20200329165134  67    96  \n",
              "2          0  data/nemcova_data/20200329165134  67    96  \n",
              "3          0  data/nemcova_data/20200329165134  67    96  \n",
              "4          0  data/nemcova_data/20200329165134  67    96  "
            ],
            "text/html": [
              "\n",
              "  <div id=\"df-0d10dfff-7c97-4c49-914b-7787e0f92ca4\">\n",
              "    <div class=\"colab-df-container\">\n",
              "      <div>\n",
              "<style scoped>\n",
              "    .dataframe tbody tr th:only-of-type {\n",
              "        vertical-align: middle;\n",
              "    }\n",
              "\n",
              "    .dataframe tbody tr th {\n",
              "        vertical-align: top;\n",
              "    }\n",
              "\n",
              "    .dataframe thead th {\n",
              "        text-align: right;\n",
              "    }\n",
              "</style>\n",
              "<table border=\"1\" class=\"dataframe\">\n",
              "  <thead>\n",
              "    <tr style=\"text-align: right;\">\n",
              "      <th></th>\n",
              "      <th>mean_red</th>\n",
              "      <th>std_red</th>\n",
              "      <th>mean_green</th>\n",
              "      <th>std_green</th>\n",
              "      <th>mean_blue</th>\n",
              "      <th>std_blue</th>\n",
              "      <th>frame</th>\n",
              "      <th>sample_id</th>\n",
              "      <th>sample_source</th>\n",
              "      <th>HR</th>\n",
              "      <th>SpO2</th>\n",
              "    </tr>\n",
              "  </thead>\n",
              "  <tbody>\n",
              "    <tr>\n",
              "      <th>0</th>\n",
              "      <td>232.57672</td>\n",
              "      <td>3.211507</td>\n",
              "      <td>58.689560</td>\n",
              "      <td>2.680604</td>\n",
              "      <td>11.422743</td>\n",
              "      <td>1.399133</td>\n",
              "      <td>0</td>\n",
              "      <td>0</td>\n",
              "      <td>data/nemcova_data/20200329165134</td>\n",
              "      <td>67</td>\n",
              "      <td>96</td>\n",
              "    </tr>\n",
              "    <tr>\n",
              "      <th>1</th>\n",
              "      <td>232.58626</td>\n",
              "      <td>3.227342</td>\n",
              "      <td>58.543620</td>\n",
              "      <td>2.686459</td>\n",
              "      <td>11.576931</td>\n",
              "      <td>1.392232</td>\n",
              "      <td>1</td>\n",
              "      <td>0</td>\n",
              "      <td>data/nemcova_data/20200329165134</td>\n",
              "      <td>67</td>\n",
              "      <td>96</td>\n",
              "    </tr>\n",
              "    <tr>\n",
              "      <th>2</th>\n",
              "      <td>231.62793</td>\n",
              "      <td>3.354800</td>\n",
              "      <td>56.909832</td>\n",
              "      <td>2.618421</td>\n",
              "      <td>11.841254</td>\n",
              "      <td>1.384937</td>\n",
              "      <td>2</td>\n",
              "      <td>0</td>\n",
              "      <td>data/nemcova_data/20200329165134</td>\n",
              "      <td>67</td>\n",
              "      <td>96</td>\n",
              "    </tr>\n",
              "    <tr>\n",
              "      <th>3</th>\n",
              "      <td>229.85297</td>\n",
              "      <td>3.427032</td>\n",
              "      <td>54.868923</td>\n",
              "      <td>2.562196</td>\n",
              "      <td>11.658637</td>\n",
              "      <td>1.371605</td>\n",
              "      <td>3</td>\n",
              "      <td>0</td>\n",
              "      <td>data/nemcova_data/20200329165134</td>\n",
              "      <td>67</td>\n",
              "      <td>96</td>\n",
              "    </tr>\n",
              "    <tr>\n",
              "      <th>4</th>\n",
              "      <td>229.35710</td>\n",
              "      <td>3.470576</td>\n",
              "      <td>54.374130</td>\n",
              "      <td>2.574666</td>\n",
              "      <td>11.535156</td>\n",
              "      <td>1.360028</td>\n",
              "      <td>4</td>\n",
              "      <td>0</td>\n",
              "      <td>data/nemcova_data/20200329165134</td>\n",
              "      <td>67</td>\n",
              "      <td>96</td>\n",
              "    </tr>\n",
              "  </tbody>\n",
              "</table>\n",
              "</div>\n",
              "      <button class=\"colab-df-convert\" onclick=\"convertToInteractive('df-0d10dfff-7c97-4c49-914b-7787e0f92ca4')\"\n",
              "              title=\"Convert this dataframe to an interactive table.\"\n",
              "              style=\"display:none;\">\n",
              "        \n",
              "  <svg xmlns=\"http://www.w3.org/2000/svg\" height=\"24px\"viewBox=\"0 0 24 24\"\n",
              "       width=\"24px\">\n",
              "    <path d=\"M0 0h24v24H0V0z\" fill=\"none\"/>\n",
              "    <path d=\"M18.56 5.44l.94 2.06.94-2.06 2.06-.94-2.06-.94-.94-2.06-.94 2.06-2.06.94zm-11 1L8.5 8.5l.94-2.06 2.06-.94-2.06-.94L8.5 2.5l-.94 2.06-2.06.94zm10 10l.94 2.06.94-2.06 2.06-.94-2.06-.94-.94-2.06-.94 2.06-2.06.94z\"/><path d=\"M17.41 7.96l-1.37-1.37c-.4-.4-.92-.59-1.43-.59-.52 0-1.04.2-1.43.59L10.3 9.45l-7.72 7.72c-.78.78-.78 2.05 0 2.83L4 21.41c.39.39.9.59 1.41.59.51 0 1.02-.2 1.41-.59l7.78-7.78 2.81-2.81c.8-.78.8-2.07 0-2.86zM5.41 20L4 18.59l7.72-7.72 1.47 1.35L5.41 20z\"/>\n",
              "  </svg>\n",
              "      </button>\n",
              "      \n",
              "  <style>\n",
              "    .colab-df-container {\n",
              "      display:flex;\n",
              "      flex-wrap:wrap;\n",
              "      gap: 12px;\n",
              "    }\n",
              "\n",
              "    .colab-df-convert {\n",
              "      background-color: #E8F0FE;\n",
              "      border: none;\n",
              "      border-radius: 50%;\n",
              "      cursor: pointer;\n",
              "      display: none;\n",
              "      fill: #1967D2;\n",
              "      height: 32px;\n",
              "      padding: 0 0 0 0;\n",
              "      width: 32px;\n",
              "    }\n",
              "\n",
              "    .colab-df-convert:hover {\n",
              "      background-color: #E2EBFA;\n",
              "      box-shadow: 0px 1px 2px rgba(60, 64, 67, 0.3), 0px 1px 3px 1px rgba(60, 64, 67, 0.15);\n",
              "      fill: #174EA6;\n",
              "    }\n",
              "\n",
              "    [theme=dark] .colab-df-convert {\n",
              "      background-color: #3B4455;\n",
              "      fill: #D2E3FC;\n",
              "    }\n",
              "\n",
              "    [theme=dark] .colab-df-convert:hover {\n",
              "      background-color: #434B5C;\n",
              "      box-shadow: 0px 1px 3px 1px rgba(0, 0, 0, 0.15);\n",
              "      filter: drop-shadow(0px 1px 2px rgba(0, 0, 0, 0.3));\n",
              "      fill: #FFFFFF;\n",
              "    }\n",
              "  </style>\n",
              "\n",
              "      <script>\n",
              "        const buttonEl =\n",
              "          document.querySelector('#df-0d10dfff-7c97-4c49-914b-7787e0f92ca4 button.colab-df-convert');\n",
              "        buttonEl.style.display =\n",
              "          google.colab.kernel.accessAllowed ? 'block' : 'none';\n",
              "\n",
              "        async function convertToInteractive(key) {\n",
              "          const element = document.querySelector('#df-0d10dfff-7c97-4c49-914b-7787e0f92ca4');\n",
              "          const dataTable =\n",
              "            await google.colab.kernel.invokeFunction('convertToInteractive',\n",
              "                                                     [key], {});\n",
              "          if (!dataTable) return;\n",
              "\n",
              "          const docLinkHtml = 'Like what you see? Visit the ' +\n",
              "            '<a target=\"_blank\" href=https://colab.research.google.com/notebooks/data_table.ipynb>data table notebook</a>'\n",
              "            + ' to learn more about interactive tables.';\n",
              "          element.innerHTML = '';\n",
              "          dataTable['output_type'] = 'display_data';\n",
              "          await google.colab.output.renderOutput(dataTable, element);\n",
              "          const docLink = document.createElement('div');\n",
              "          docLink.innerHTML = docLinkHtml;\n",
              "          element.appendChild(docLink);\n",
              "        }\n",
              "      </script>\n",
              "    </div>\n",
              "  </div>\n",
              "  "
            ]
          },
          "metadata": {},
          "execution_count": 5
        }
      ]
    },
    {
      "cell_type": "code",
      "source": [
        "merged_data.info()"
      ],
      "metadata": {
        "id": "kaJti7QsypOx",
        "colab": {
          "base_uri": "https://localhost:8080/"
        },
        "outputId": "12a0eb8d-0638-420b-e93d-e2a209ba6410"
      },
      "execution_count": null,
      "outputs": [
        {
          "output_type": "stream",
          "name": "stdout",
          "text": [
            "<class 'pandas.core.frame.DataFrame'>\n",
            "RangeIndex: 18172 entries, 0 to 18171\n",
            "Data columns (total 11 columns):\n",
            " #   Column         Non-Null Count  Dtype  \n",
            "---  ------         --------------  -----  \n",
            " 0   mean_red       18172 non-null  float64\n",
            " 1   std_red        18172 non-null  float64\n",
            " 2   mean_green     18172 non-null  float64\n",
            " 3   std_green      18172 non-null  float64\n",
            " 4   mean_blue      18172 non-null  float64\n",
            " 5   std_blue       18172 non-null  float64\n",
            " 6   frame          18172 non-null  int64  \n",
            " 7   sample_id      18172 non-null  int64  \n",
            " 8   sample_source  18172 non-null  object \n",
            " 9   HR             18172 non-null  int64  \n",
            " 10  SpO2           18172 non-null  int64  \n",
            "dtypes: float64(6), int64(4), object(1)\n",
            "memory usage: 1.5+ MB\n"
          ]
        }
      ]
    },
    {
      "cell_type": "code",
      "source": [
        "merged_data['SpO2'].value_counts()"
      ],
      "metadata": {
        "colab": {
          "base_uri": "https://localhost:8080/"
        },
        "id": "myDi6b2H8YdD",
        "outputId": "c42cb87a-9813-4e4f-b3ef-eac2862d0191"
      },
      "execution_count": null,
      "outputs": [
        {
          "output_type": "execute_result",
          "data": {
            "text/plain": [
              "98    7734\n",
              "97    3644\n",
              "99    2968\n",
              "96    2088\n",
              "94     696\n",
              "87     659\n",
              "95     383\n",
              "Name: SpO2, dtype: int64"
            ]
          },
          "metadata": {},
          "execution_count": 7
        }
      ]
    },
    {
      "cell_type": "code",
      "source": [
        "df_hr = merged_data.drop(['frame', 'sample_id', 'sample_source', 'SpO2'], axis=1)"
      ],
      "metadata": {
        "id": "gvSDq9IlLHGP"
      },
      "execution_count": null,
      "outputs": []
    },
    {
      "cell_type": "code",
      "source": [
        "df_sp = merged_data.drop(['frame', 'sample_id', 'sample_source', 'HR'], axis=1)"
      ],
      "metadata": {
        "id": "6wLMFMv8Ue-5"
      },
      "execution_count": null,
      "outputs": []
    },
    {
      "cell_type": "code",
      "source": [
        "from matplotlib import pyplot as plt\n",
        "fig, ax = plt.subplots(figsize =(10, 7))\n",
        "ax.hist(df_sp['mean_red'])"
      ],
      "metadata": {
        "colab": {
          "base_uri": "https://localhost:8080/",
          "height": 532
        },
        "id": "px1mI-pYaBQQ",
        "outputId": "46caa745-8c2f-493e-b0e1-21bfadeab315"
      },
      "execution_count": null,
      "outputs": [
        {
          "output_type": "execute_result",
          "data": {
            "text/plain": [
              "(array([ 696.,    0.,    0.,  472.,   76., 6053., 3916.,  939., 3582.,\n",
              "        2438.]),\n",
              " array([118.00326 , 131.570425, 145.13759 , 158.704755, 172.27192 ,\n",
              "        185.839085, 199.40625 , 212.973415, 226.54058 , 240.107745,\n",
              "        253.67491 ]),\n",
              " <a list of 10 Patch objects>)"
            ]
          },
          "metadata": {},
          "execution_count": 9
        },
        {
          "output_type": "display_data",
          "data": {
            "text/plain": [
              "<Figure size 720x504 with 1 Axes>"
            ],
            "image/png": "[encoded data removed]"
          },
          "metadata": {
            "needs_background": "light"
          }
        }
      ]
    },
    {
      "cell_type": "code",
      "source": [
        "fig, ax = plt.subplots(figsize =(10, 7))\n",
        "ax.plot(df_sp['mean_red'], 'r')\n",
        "ax.plot(df_sp['std_red'], 'b')\n",
        "ax.plot(df_sp['SpO2'], 'g')"
      ],
      "metadata": {
        "colab": {
          "base_uri": "https://localhost:8080/",
          "height": 445
        },
        "id": "QClqlpOIynQE",
        "outputId": "eaf243ac-849c-402e-d7be-fc52ba704bbf"
      },
      "execution_count": null,
      "outputs": [
        {
          "output_type": "execute_result",
          "data": {
            "text/plain": [
              "[<matplotlib.lines.Line2D at 0x7fe49197bb90>]"
            ]
          },
          "metadata": {},
          "execution_count": 10
        },
        {
          "output_type": "display_data",
          "data": {
            "text/plain": [
              "<Figure size 720x504 with 1 Axes>"
            ],
            "image/png": "[encoded data removed]"
          },
          "metadata": {
            "needs_background": "light"
          }
        }
      ]
    },
    {
      "cell_type": "code",
      "source": [
        "fig, ax = plt.subplots(figsize =(10, 7))\n",
        "ax.plot(df_sp['mean_green'], 'r')\n",
        "ax.plot(df_sp['std_green'], 'b')\n",
        "ax.plot(df_sp['SpO2'], 'g')"
      ],
      "metadata": {
        "colab": {
          "base_uri": "https://localhost:8080/",
          "height": 445
        },
        "id": "I39oMILEbZxA",
        "outputId": "73dd5066-68f9-4944-e018-68a89908633e"
      },
      "execution_count": null,
      "outputs": [
        {
          "output_type": "execute_result",
          "data": {
            "text/plain": [
              "[<matplotlib.lines.Line2D at 0x7fe491903810>]"
            ]
          },
          "metadata": {},
          "execution_count": 11
        },
        {
          "output_type": "display_data",
          "data": {
            "text/plain": [
              "<Figure size 720x504 with 1 Axes>"
            ],
            "image/png": "[encoded data removed]"
          },
          "metadata": {
            "needs_background": "light"
          }
        }
      ]
    },
    {
      "cell_type": "code",
      "source": [
        "fig, ax = plt.subplots(figsize =(10, 7))\n",
        "ax.plot(df_sp['mean_blue'], 'r')\n",
        "ax.plot(df_sp['std_blue'], 'b')\n",
        "ax.plot(df_sp['SpO2'], 'g')"
      ],
      "metadata": {
        "colab": {
          "base_uri": "https://localhost:8080/",
          "height": 445
        },
        "id": "nAY9qVuPwi8a",
        "outputId": "b75515b2-95c2-40cc-bb9a-268cd8c3eea5"
      },
      "execution_count": null,
      "outputs": [
        {
          "output_type": "execute_result",
          "data": {
            "text/plain": [
              "[<matplotlib.lines.Line2D at 0x7fe49188d150>]"
            ]
          },
          "metadata": {},
          "execution_count": 12
        },
        {
          "output_type": "display_data",
          "data": {
            "text/plain": [
              "<Figure size 720x504 with 1 Axes>"
            ],
            "image/png": "[encoded data removed]"
          },
          "metadata": {
            "needs_background": "light"
          }
        }
      ]
    },
    {
      "cell_type": "code",
      "source": [
        "df_sp.head()"
      ],
      "metadata": {
        "colab": {
          "base_uri": "https://localhost:8080/",
          "height": 206
        },
        "id": "eAKOPvFHUxcv",
        "outputId": "d5063b93-65aa-44aa-80fd-884eff137262"
      },
      "execution_count": null,
      "outputs": [
        {
          "output_type": "execute_result",
          "data": {
            "text/plain": [
              "    mean_red   std_red  mean_green  std_green  mean_blue  std_blue  SpO2\n",
              "0  232.57672  3.211507   58.689560   2.680604  11.422743  1.399133    96\n",
              "1  232.58626  3.227342   58.543620   2.686459  11.576931  1.392232    96\n",
              "2  231.62793  3.354800   56.909832   2.618421  11.841254  1.384937    96\n",
              "3  229.85297  3.427032   54.868923   2.562196  11.658637  1.371605    96\n",
              "4  229.35710  3.470576   54.374130   2.574666  11.535156  1.360028    96"
            ],
            "text/html": [
              "\n",
              "  <div id=\"df-e3078204-fd65-4b91-a662-920012ddb472\">\n",
              "    <div class=\"colab-df-container\">\n",
              "      <div>\n",
              "<style scoped>\n",
              "    .dataframe tbody tr th:only-of-type {\n",
              "        vertical-align: middle;\n",
              "    }\n",
              "\n",
              "    .dataframe tbody tr th {\n",
              "        vertical-align: top;\n",
              "    }\n",
              "\n",
              "    .dataframe thead th {\n",
              "        text-align: right;\n",
              "    }\n",
              "</style>\n",
              "<table border=\"1\" class=\"dataframe\">\n",
              "  <thead>\n",
              "    <tr style=\"text-align: right;\">\n",
              "      <th></th>\n",
              "      <th>mean_red</th>\n",
              "      <th>std_red</th>\n",
              "      <th>mean_green</th>\n",
              "      <th>std_green</th>\n",
              "      <th>mean_blue</th>\n",
              "      <th>std_blue</th>\n",
              "      <th>SpO2</th>\n",
              "    </tr>\n",
              "  </thead>\n",
              "  <tbody>\n",
              "    <tr>\n",
              "      <th>0</th>\n",
              "      <td>232.57672</td>\n",
              "      <td>3.211507</td>\n",
              "      <td>58.689560</td>\n",
              "      <td>2.680604</td>\n",
              "      <td>11.422743</td>\n",
              "      <td>1.399133</td>\n",
              "      <td>96</td>\n",
              "    </tr>\n",
              "    <tr>\n",
              "      <th>1</th>\n",
              "      <td>232.58626</td>\n",
              "      <td>3.227342</td>\n",
              "      <td>58.543620</td>\n",
              "      <td>2.686459</td>\n",
              "      <td>11.576931</td>\n",
              "      <td>1.392232</td>\n",
              "      <td>96</td>\n",
              "    </tr>\n",
              "    <tr>\n",
              "      <th>2</th>\n",
              "      <td>231.62793</td>\n",
              "      <td>3.354800</td>\n",
              "      <td>56.909832</td>\n",
              "      <td>2.618421</td>\n",
              "      <td>11.841254</td>\n",
              "      <td>1.384937</td>\n",
              "      <td>96</td>\n",
              "    </tr>\n",
              "    <tr>\n",
              "      <th>3</th>\n",
              "      <td>229.85297</td>\n",
              "      <td>3.427032</td>\n",
              "      <td>54.868923</td>\n",
              "      <td>2.562196</td>\n",
              "      <td>11.658637</td>\n",
              "      <td>1.371605</td>\n",
              "      <td>96</td>\n",
              "    </tr>\n",
              "    <tr>\n",
              "      <th>4</th>\n",
              "      <td>229.35710</td>\n",
              "      <td>3.470576</td>\n",
              "      <td>54.374130</td>\n",
              "      <td>2.574666</td>\n",
              "      <td>11.535156</td>\n",
              "      <td>1.360028</td>\n",
              "      <td>96</td>\n",
              "    </tr>\n",
              "  </tbody>\n",
              "</table>\n",
              "</div>\n",
              "      <button class=\"colab-df-convert\" onclick=\"convertToInteractive('df-e3078204-fd65-4b91-a662-920012ddb472')\"\n",
              "              title=\"Convert this dataframe to an interactive table.\"\n",
              "              style=\"display:none;\">\n",
              "        \n",
              "  <svg xmlns=\"http://www.w3.org/2000/svg\" height=\"24px\"viewBox=\"0 0 24 24\"\n",
              "       width=\"24px\">\n",
              "    <path d=\"M0 0h24v24H0V0z\" fill=\"none\"/>\n",
              "    <path d=\"M18.56 5.44l.94 2.06.94-2.06 2.06-.94-2.06-.94-.94-2.06-.94 2.06-2.06.94zm-11 1L8.5 8.5l.94-2.06 2.06-.94-2.06-.94L8.5 2.5l-.94 2.06-2.06.94zm10 10l.94 2.06.94-2.06 2.06-.94-2.06-.94-.94-2.06-.94 2.06-2.06.94z\"/><path d=\"M17.41 7.96l-1.37-1.37c-.4-.4-.92-.59-1.43-.59-.52 0-1.04.2-1.43.59L10.3 9.45l-7.72 7.72c-.78.78-.78 2.05 0 2.83L4 21.41c.39.39.9.59 1.41.59.51 0 1.02-.2 1.41-.59l7.78-7.78 2.81-2.81c.8-.78.8-2.07 0-2.86zM5.41 20L4 18.59l7.72-7.72 1.47 1.35L5.41 20z\"/>\n",
              "  </svg>\n",
              "      </button>\n",
              "      \n",
              "  <style>\n",
              "    .colab-df-container {\n",
              "      display:flex;\n",
              "      flex-wrap:wrap;\n",
              "      gap: 12px;\n",
              "    }\n",
              "\n",
              "    .colab-df-convert {\n",
              "      background-color: #E8F0FE;\n",
              "      border: none;\n",
              "      border-radius: 50%;\n",
              "      cursor: pointer;\n",
              "      display: none;\n",
              "      fill: #1967D2;\n",
              "      height: 32px;\n",
              "      padding: 0 0 0 0;\n",
              "      width: 32px;\n",
              "    }\n",
              "\n",
              "    .colab-df-convert:hover {\n",
              "      background-color: #E2EBFA;\n",
              "      box-shadow: 0px 1px 2px rgba(60, 64, 67, 0.3), 0px 1px 3px 1px rgba(60, 64, 67, 0.15);\n",
              "      fill: #174EA6;\n",
              "    }\n",
              "\n",
              "    [theme=dark] .colab-df-convert {\n",
              "      background-color: #3B4455;\n",
              "      fill: #D2E3FC;\n",
              "    }\n",
              "\n",
              "    [theme=dark] .colab-df-convert:hover {\n",
              "      background-color: #434B5C;\n",
              "      box-shadow: 0px 1px 3px 1px rgba(0, 0, 0, 0.15);\n",
              "      filter: drop-shadow(0px 1px 2px rgba(0, 0, 0, 0.3));\n",
              "      fill: #FFFFFF;\n",
              "    }\n",
              "  </style>\n",
              "\n",
              "      <script>\n",
              "        const buttonEl =\n",
              "          document.querySelector('#df-e3078204-fd65-4b91-a662-920012ddb472 button.colab-df-convert');\n",
              "        buttonEl.style.display =\n",
              "          google.colab.kernel.accessAllowed ? 'block' : 'none';\n",
              "\n",
              "        async function convertToInteractive(key) {\n",
              "          const element = document.querySelector('#df-e3078204-fd65-4b91-a662-920012ddb472');\n",
              "          const dataTable =\n",
              "            await google.colab.kernel.invokeFunction('convertToInteractive',\n",
              "                                                     [key], {});\n",
              "          if (!dataTable) return;\n",
              "\n",
              "          const docLinkHtml = 'Like what you see? Visit the ' +\n",
              "            '<a target=\"_blank\" href=https://colab.research.google.com/notebooks/data_table.ipynb>data table notebook</a>'\n",
              "            + ' to learn more about interactive tables.';\n",
              "          element.innerHTML = '';\n",
              "          dataTable['output_type'] = 'display_data';\n",
              "          await google.colab.output.renderOutput(dataTable, element);\n",
              "          const docLink = document.createElement('div');\n",
              "          docLink.innerHTML = docLinkHtml;\n",
              "          element.appendChild(docLink);\n",
              "        }\n",
              "      </script>\n",
              "    </div>\n",
              "  </div>\n",
              "  "
            ]
          },
          "metadata": {},
          "execution_count": 13
        }
      ]
    },
    {
      "cell_type": "code",
      "source": [
        "import matplotlib.pyplot as plt\n",
        "X = df_sp.iloc[:, :-1].values\n",
        "y = df_sp.iloc[:, -1].values"
      ],
      "metadata": {
        "id": "NvV0RMuGU78Q"
      },
      "execution_count": null,
      "outputs": []
    },
    {
      "cell_type": "code",
      "source": [
        "from sklearn.model_selection import train_test_split\n",
        "X_train, X_test, y_train, y_test = train_test_split(X, y, test_size = 0.2, random_state = 42)"
      ],
      "metadata": {
        "id": "6Yj9e52SWyX6"
      },
      "execution_count": null,
      "outputs": []
    },
    {
      "cell_type": "code",
      "source": [
        "X_train"
      ],
      "metadata": {
        "id": "sZV0Nh7rjlNa"
      },
      "execution_count": null,
      "outputs": []
    },
    {
      "cell_type": "code",
      "source": [
        "y_train"
      ],
      "metadata": {
        "id": "VRCHLOcijqk4"
      },
      "execution_count": null,
      "outputs": []
    },
    {
      "cell_type": "code",
      "source": [
        "from sklearn.linear_model import LinearRegression\n",
        "regressor=LinearRegression()\n",
        "regressor.fit(X_train,y_train)"
      ],
      "metadata": {
        "colab": {
          "base_uri": "https://localhost:8080/"
        },
        "id": "poWM2QeAzTDN",
        "outputId": "cde52d00-e176-4f82-d4ad-de3c8a79a8b7"
      },
      "execution_count": null,
      "outputs": [
        {
          "output_type": "execute_result",
          "data": {
            "text/plain": [
              "LinearRegression()"
            ]
          },
          "metadata": {},
          "execution_count": 16
        }
      ]
    },
    {
      "cell_type": "code",
      "source": [
        "from sklearn.metrics import mean_squared_error\n",
        "predicted = regressor.predict(X_test)\n",
        "errors = mean_squared_error(y_test, predicted)\n",
        "errors"
      ],
      "metadata": {
        "colab": {
          "base_uri": "https://localhost:8080/"
        },
        "id": "Gzkvo14zzS_P",
        "outputId": "a5a93bdf-81c1-4e04-fd8b-15f6db80361e"
      },
      "execution_count": null,
      "outputs": [
        {
          "output_type": "execute_result",
          "data": {
            "text/plain": [
              "1.3615694842909447"
            ]
          },
          "metadata": {},
          "execution_count": 18
        }
      ]
    },
    {
      "cell_type": "code",
      "source": [
        "from sklearn.preprocessing import PolynomialFeatures\n",
        "poly_reg=PolynomialFeatures(degree=5)\n",
        "x_poly=poly_reg.fit_transform(X_train)\n",
        "from sklearn.linear_model import LinearRegression\n",
        "lin_reg2=LinearRegression()\n",
        "lin_reg2.fit(x_poly,y_train)"
      ],
      "metadata": {
        "colab": {
          "base_uri": "https://localhost:8080/"
        },
        "id": "iwc7lUhwzS9E",
        "outputId": "2a0ff556-254f-4149-d7ca-07341dea3342"
      },
      "execution_count": null,
      "outputs": [
        {
          "output_type": "execute_result",
          "data": {
            "text/plain": [
              "LinearRegression()"
            ]
          },
          "metadata": {},
          "execution_count": 33
        }
      ]
    },
    {
      "cell_type": "code",
      "source": [
        "from sklearn.metrics import mean_squared_error\n",
        "predicted = lin_reg2.predict(poly_reg.fit_transform(X_test))\n",
        "errors = mean_squared_error(y_test, predicted)\n",
        "errors"
      ],
      "metadata": {
        "colab": {
          "base_uri": "https://localhost:8080/"
        },
        "id": "XqsHZbcozS7K",
        "outputId": "43c767b3-b889-42e5-9490-60b208430bb8"
      },
      "execution_count": null,
      "outputs": [
        {
          "output_type": "execute_result",
          "data": {
            "text/plain": [
              "0.08563674361355016"
            ]
          },
          "metadata": {},
          "execution_count": 34
        }
      ]
    },
    {
      "cell_type": "code",
      "source": [
        "from sklearn.svm import SVR\n",
        "svr_reg=SVR(kernel='rbf')\n",
        "svr_reg.fit(X_train,y_train)"
      ],
      "metadata": {
        "colab": {
          "base_uri": "https://localhost:8080/"
        },
        "id": "0NGvIAWnzS5K",
        "outputId": "db8eed5c-f59a-43fd-a3a0-d60e9d85535d"
      },
      "execution_count": null,
      "outputs": [
        {
          "output_type": "execute_result",
          "data": {
            "text/plain": [
              "SVR()"
            ]
          },
          "metadata": {},
          "execution_count": 39
        }
      ]
    },
    {
      "cell_type": "code",
      "source": [
        "from sklearn.metrics import mean_squared_error\n",
        "predicted = svr_reg.predict(X_test)\n",
        "errors = mean_squared_error(y_test, predicted)\n",
        "errors"
      ],
      "metadata": {
        "colab": {
          "base_uri": "https://localhost:8080/"
        },
        "id": "TXpUDYT2zS2_",
        "outputId": "0a44c365-630c-4fd0-9707-14cc45ca00c9"
      },
      "execution_count": null,
      "outputs": [
        {
          "output_type": "execute_result",
          "data": {
            "text/plain": [
              "0.877730521062012"
            ]
          },
          "metadata": {},
          "execution_count": 40
        }
      ]
    },
    {
      "cell_type": "code",
      "source": [],
      "metadata": {
        "id": "hiWL8wJuzS0c"
      },
      "execution_count": null,
      "outputs": []
    },
    {
      "cell_type": "code",
      "source": [
        "from sklearn.ensemble import RandomForestRegressor\n",
        "regressor = RandomForestRegressor(n_estimators = 500, random_state = 42)\n",
        "regressor.fit(X_train, y_train)"
      ],
      "metadata": {
        "colab": {
          "base_uri": "https://localhost:8080/"
        },
        "id": "4NYCOXUrVlBD",
        "outputId": "b73f7924-d86d-4938-9e05-78949745a02a"
      },
      "execution_count": null,
      "outputs": [
        {
          "output_type": "execute_result",
          "data": {
            "text/plain": [
              "RandomForestRegressor(n_estimators=500, random_state=42)"
            ]
          },
          "metadata": {},
          "execution_count": 41
        }
      ]
    },
    {
      "cell_type": "code",
      "source": [
        "predicted = regressor.predict(X_test)\n",
        "errors = mean_squared_error(y_test, predicted)\n",
        "errors"
      ],
      "metadata": {
        "id": "bbueMnZYXppR",
        "colab": {
          "base_uri": "https://localhost:8080/"
        },
        "outputId": "8fab3421-ef68-4ac5-9868-92ec6beb234c"
      },
      "execution_count": null,
      "outputs": [
        {
          "output_type": "execute_result",
          "data": {
            "text/plain": [
              "0.09881363400785305"
            ]
          },
          "metadata": {},
          "execution_count": 42
        }
      ]
    },
    {
      "cell_type": "code",
      "source": [],
      "metadata": {
        "id": "OlWN3DPkV8en"
      },
      "execution_count": null,
      "outputs": []
    },
    {
      "cell_type": "code",
      "source": [
        "errors"
      ],
      "metadata": {
        "id": "fzjHJhZbYmy2",
        "colab": {
          "base_uri": "https://localhost:8080/"
        },
        "outputId": "9ec97c2b-2069-41f8-a492-8a91f3dd0501"
      },
      "execution_count": null,
      "outputs": [
        {
          "output_type": "execute_result",
          "data": {
            "text/plain": [
              "0.09881363400785305"
            ]
          },
          "metadata": {},
          "execution_count": 23
        }
      ]
    },
    {
      "cell_type": "code",
      "source": [
        "regressor.predict([[232.57672, 3.211507, 58.689560, 2.680604, 11.422743, 1.399133]])"
      ],
      "metadata": {
        "id": "J9-KopFHYrUT",
        "colab": {
          "base_uri": "https://localhost:8080/"
        },
        "outputId": "228ec8d6-0a4e-419f-a35c-f7843708821f"
      },
      "execution_count": null,
      "outputs": [
        {
          "output_type": "execute_result",
          "data": {
            "text/plain": [
              "array([94.944])"
            ]
          },
          "metadata": {},
          "execution_count": 24
        }
      ]
    },
    {
      "cell_type": "code",
      "source": [
        "import pickle\n",
        "with open('model_pkl', 'wb') as files:\n",
        "    pickle.dump(regressor, files)"
      ],
      "metadata": {
        "id": "33jNFmGyc28J"
      },
      "execution_count": null,
      "outputs": []
    },
    {
      "cell_type": "code",
      "source": [
        "import cv2\n",
        "video_name = \"name.mp4\" # or any other extension like .avi etc\n",
        "vidcap = cv2.VideoCapture(video_name)\n",
        "success,image = vidcap.read()\n",
        "count = 0\n",
        "while success:\n",
        "  cv2.imwrite(\"frame%d.jpg\" % count, image)     # save frame as JPEG file      \n",
        "  success,image = vidcap.read()\n",
        "  print(image)\n",
        "  print('Read a new frame: ', success)\n",
        "  count += 1"
      ],
      "metadata": {
        "id": "kiiDCiiueirb"
      },
      "execution_count": null,
      "outputs": []
    },
    {
      "cell_type": "code",
      "source": [
        "print(image)"
      ],
      "metadata": {
        "colab": {
          "base_uri": "https://localhost:8080/"
        },
        "id": "Xwfl5Iy3bc2z",
        "outputId": "781c5ec0-ff9a-4eca-e4c6-af0d5b672efe"
      },
      "execution_count": null,
      "outputs": [
        {
          "output_type": "stream",
          "name": "stdout",
          "text": [
            "None\n"
          ]
        }
      ]
    },
    {
      "cell_type": "code",
      "source": [
        "import base64\n",
        "with open(\"imageToSave.png\", \"wb\") as fh:\n",
        "    fh.write(base64.decodebytes(img_data))"
      ],
      "metadata": {
        "id": "7I9s8Ejmbq3r"
      },
      "execution_count": null,
      "outputs": []
    },
    {
      "cell_type": "code",
      "source": [
        "from PIL import Image\n",
        "import numpy as np\n",
        "from tabulate import tabulate\n",
        "import os\n",
        "arr = np.array(Image.open(\"name.jpg\"))"
      ],
      "metadata": {
        "id": "6egzoXJxc-UW"
      },
      "execution_count": null,
      "outputs": []
    },
    {
      "cell_type": "code",
      "source": [
        "arr"
      ],
      "metadata": {
        "id": "EDh65Mube9RQ"
      },
      "execution_count": null,
      "outputs": []
    },
    {
      "cell_type": "code",
      "source": [
        "print(arr.shape)"
      ],
      "metadata": {
        "colab": {
          "base_uri": "https://localhost:8080/"
        },
        "id": "GLd-YxxMfGMM",
        "outputId": "0e13e04a-f809-4314-ab24-95b8e1cc566e"
      },
      "execution_count": null,
      "outputs": [
        {
          "output_type": "stream",
          "name": "stdout",
          "text": [
            "(2240, 4608, 3)\n"
          ]
        }
      ]
    },
    {
      "cell_type": "code",
      "source": [
        "a = np.average(arr, axis=(0,1))\n",
        "b = np.std(arr, axis = (0,1))\n",
        "im = [[a[0], b[0], a[1], b[1], a[2], b[2]]]"
      ],
      "metadata": {
        "id": "qkecMU6IfKHk"
      },
      "execution_count": null,
      "outputs": []
    },
    {
      "cell_type": "code",
      "source": [
        "model.predict(im)"
      ],
      "metadata": {
        "colab": {
          "base_uri": "https://localhost:8080/"
        },
        "id": "U15EPaJrdS_d",
        "outputId": "32fc7cc3-e0ac-4926-8b05-86cf2ab66ade"
      },
      "execution_count": null,
      "outputs": [
        {
          "output_type": "execute_result",
          "data": {
            "text/plain": [
              "array([97.])"
            ]
          },
          "metadata": {},
          "execution_count": 10
        }
      ]
    },
    {
      "cell_type": "code",
      "source": [
        "import joblib\n",
        "model = joblib.load(\"model_pkl\")"
      ],
      "metadata": {
        "id": "a90sGTcMdYPW"
      },
      "execution_count": null,
      "outputs": []
    },
    {
      "cell_type": "code",
      "source": [
        "im"
      ],
      "metadata": {
        "colab": {
          "base_uri": "https://localhost:8080/"
        },
        "id": "IU6GxKJc1_Ii",
        "outputId": "e77a8d49-4ce5-49f8-cbe1-fea66e23ca80"
      },
      "execution_count": null,
      "outputs": [
        {
          "output_type": "execute_result",
          "data": {
            "text/plain": [
              "[[230.07429741753472,\n",
              "  12.382710617156725,\n",
              "  10.141123550657243,\n",
              "  3.008721777504039,\n",
              "  33.956456938244045,\n",
              "  7.067212359572093]]"
            ]
          },
          "metadata": {},
          "execution_count": 11
        }
      ]
    },
    {
      "cell_type": "code",
      "source": [],
      "metadata": {
        "id": "JL77ay1Y3t3X"
      },
      "execution_count": null,
      "outputs": []
    }
  ]
}